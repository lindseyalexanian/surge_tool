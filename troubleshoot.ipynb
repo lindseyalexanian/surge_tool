{
 "cells": [
  {
   "cell_type": "code",
   "execution_count": 1,
   "id": "e59c4a23-c15c-488b-ad05-f658b851a51d",
   "metadata": {},
   "outputs": [],
   "source": [
    "import pandas as pd\n",
    "import numpy as np\n",
    "import re\n",
    "import os\n",
    "import matplotlib.pyplot as plt\n",
    "import itertools\n",
    "import datetime\n",
    "#from datetime import datetime\n",
    "from datetime import timedelta\n",
    "import argparse\n",
    "from sklearn.linear_model import LinearRegression\n",
    "import sys\n",
    "import math\n",
    "import scipy"
   ]
  },
  {
   "cell_type": "code",
   "execution_count": 2,
   "id": "1deb9eba-fbbe-4f13-beb4-7e22096e7977",
   "metadata": {},
   "outputs": [
    {
     "data": {
      "text/html": [
       "<div>\n",
       "<style scoped>\n",
       "    .dataframe tbody tr th:only-of-type {\n",
       "        vertical-align: middle;\n",
       "    }\n",
       "\n",
       "    .dataframe tbody tr th {\n",
       "        vertical-align: top;\n",
       "    }\n",
       "\n",
       "    .dataframe thead th {\n",
       "        text-align: right;\n",
       "    }\n",
       "</style>\n",
       "<table border=\"1\" class=\"dataframe\">\n",
       "  <thead>\n",
       "    <tr style=\"text-align: right;\">\n",
       "      <th></th>\n",
       "      <th>date</th>\n",
       "      <th>covid</th>\n",
       "      <th>non_covid</th>\n",
       "    </tr>\n",
       "  </thead>\n",
       "  <tbody>\n",
       "    <tr>\n",
       "      <th>0</th>\n",
       "      <td>2022-11-19</td>\n",
       "      <td>39</td>\n",
       "      <td>8.0</td>\n",
       "    </tr>\n",
       "    <tr>\n",
       "      <th>1</th>\n",
       "      <td>2022-11-20</td>\n",
       "      <td>42</td>\n",
       "      <td>10.0</td>\n",
       "    </tr>\n",
       "    <tr>\n",
       "      <th>2</th>\n",
       "      <td>2022-11-21</td>\n",
       "      <td>42</td>\n",
       "      <td>12.0</td>\n",
       "    </tr>\n",
       "    <tr>\n",
       "      <th>3</th>\n",
       "      <td>2022-11-22</td>\n",
       "      <td>44</td>\n",
       "      <td>NaN</td>\n",
       "    </tr>\n",
       "    <tr>\n",
       "      <th>4</th>\n",
       "      <td>2022-11-23</td>\n",
       "      <td>55</td>\n",
       "      <td>NaN</td>\n",
       "    </tr>\n",
       "    <tr>\n",
       "      <th>5</th>\n",
       "      <td>2022-11-24</td>\n",
       "      <td>57</td>\n",
       "      <td>NaN</td>\n",
       "    </tr>\n",
       "    <tr>\n",
       "      <th>6</th>\n",
       "      <td>2022-11-25</td>\n",
       "      <td>57</td>\n",
       "      <td>NaN</td>\n",
       "    </tr>\n",
       "    <tr>\n",
       "      <th>7</th>\n",
       "      <td>2022-11-26</td>\n",
       "      <td>58</td>\n",
       "      <td>NaN</td>\n",
       "    </tr>\n",
       "    <tr>\n",
       "      <th>8</th>\n",
       "      <td>2022-11-27</td>\n",
       "      <td>66</td>\n",
       "      <td>NaN</td>\n",
       "    </tr>\n",
       "    <tr>\n",
       "      <th>9</th>\n",
       "      <td>2022-11-28</td>\n",
       "      <td>57</td>\n",
       "      <td>NaN</td>\n",
       "    </tr>\n",
       "    <tr>\n",
       "      <th>10</th>\n",
       "      <td>2022-11-29</td>\n",
       "      <td>63</td>\n",
       "      <td>NaN</td>\n",
       "    </tr>\n",
       "    <tr>\n",
       "      <th>11</th>\n",
       "      <td>2022-11-30</td>\n",
       "      <td>71</td>\n",
       "      <td>NaN</td>\n",
       "    </tr>\n",
       "    <tr>\n",
       "      <th>12</th>\n",
       "      <td>2022-12-01</td>\n",
       "      <td>71</td>\n",
       "      <td>NaN</td>\n",
       "    </tr>\n",
       "    <tr>\n",
       "      <th>13</th>\n",
       "      <td>2022-12-02</td>\n",
       "      <td>73</td>\n",
       "      <td>NaN</td>\n",
       "    </tr>\n",
       "    <tr>\n",
       "      <th>14</th>\n",
       "      <td>2022-12-03</td>\n",
       "      <td>69</td>\n",
       "      <td>NaN</td>\n",
       "    </tr>\n",
       "  </tbody>\n",
       "</table>\n",
       "</div>"
      ],
      "text/plain": [
       "          date  covid  non_covid\n",
       "0   2022-11-19     39        8.0\n",
       "1   2022-11-20     42       10.0\n",
       "2   2022-11-21     42       12.0\n",
       "3   2022-11-22     44        NaN\n",
       "4   2022-11-23     55        NaN\n",
       "5   2022-11-24     57        NaN\n",
       "6   2022-11-25     57        NaN\n",
       "7   2022-11-26     58        NaN\n",
       "8   2022-11-27     66        NaN\n",
       "9   2022-11-28     57        NaN\n",
       "10  2022-11-29     63        NaN\n",
       "11  2022-11-30     71        NaN\n",
       "12  2022-12-01     71        NaN\n",
       "13  2022-12-02     73        NaN\n",
       "14  2022-12-03     69        NaN"
      ]
     },
     "execution_count": 2,
     "metadata": {},
     "output_type": "execute_result"
    }
   ],
   "source": [
    "# get hospital admissions input from last 2 weeks from csv\n",
    "hospital_admissions = pd.read_csv(\"hospital_info.csv\")\n",
    "\n",
    "hospital_admissions"
   ]
  },
  {
   "cell_type": "code",
   "execution_count": 4,
   "id": "fbdbb5ea-b09c-4579-bcb8-08de677defd0",
   "metadata": {},
   "outputs": [
    {
     "name": "stdout",
     "output_type": "stream",
     "text": [
      "72.799646\n"
     ]
    }
   ],
   "source": [
    "# excel LINEST function recreate\n",
    "np.polyfit(range(0,15),hospital_admissions.covid,2)\n",
    "\n",
    "# that's y = 2.4357x + 40.55\n",
    "\n",
    "x = 15\n",
    "#ans = 2.4357*2 + 40.55\n",
    "ans = -0.09453782*x**2 + 3.7592437*x + 37.682\n",
    "print(ans)"
   ]
  },
  {
   "cell_type": "code",
   "execution_count": 5,
   "id": "0fa0d8fc-abd7-4190-86d1-baa071b80e76",
   "metadata": {},
   "outputs": [
    {
     "data": {
      "text/plain": [
       "array([ 80.47153514,  84.30295528,  88.31679744,  92.52174712,\n",
       "        96.92690336, 101.54179841, 106.37641839, 111.44122485,\n",
       "       116.74717748, 122.30575774, 128.12899377, 134.2294864 ,\n",
       "       140.62043639, 147.31567305, 154.32968409, 161.67764705,\n",
       "       169.37546208, 177.43978638, 185.88807023, 194.73859475,\n",
       "       204.01051149])"
      ]
     },
     "execution_count": 5,
     "metadata": {},
     "output_type": "execute_result"
    }
   ],
   "source": [
    "p = np.polyfit(range(0,15), np.log(hospital_admissions.covid), 1)\n",
    "p\n",
    "\n",
    "num_days = 21\n",
    "\n",
    "a = np.exp(p[1])\n",
    "b = p[0]\n",
    "x_fitted = np.linspace(15, 15+21, num_days)\n",
    "y_fitted = a * np.exp(b * x_fitted)\n",
    "\n",
    "y_fitted"
   ]
  },
  {
   "cell_type": "code",
   "execution_count": 30,
   "id": "023ac37b-ecd7-41c3-a1b7-2dc823be92f2",
   "metadata": {},
   "outputs": [
    {
     "data": {
      "text/plain": [
       "82.06771644413773"
      ]
     },
     "execution_count": 30,
     "metadata": {},
     "output_type": "execute_result"
    }
   ],
   "source": [
    "def func_exp(x, a, b):\n",
    "    return a*np.exp(b*x)\n",
    "\n",
    "y = hospital_admissions[\"covid\"].tolist()\n",
    "x = np.array(range(len(y)))\n",
    "params, covs = scipy.optimize.curve_fit(func_exp, x, y)\n",
    "\n",
    "params\n",
    "\n",
    "new_x = 16\n",
    "\n",
    "4.25798747e+01*np.exp(4.10101875e-02*new_x)"
   ]
  }
 ],
 "metadata": {
  "kernelspec": {
   "display_name": "Python 3 (ipykernel)",
   "language": "python",
   "name": "python3"
  },
  "language_info": {
   "codemirror_mode": {
    "name": "ipython",
    "version": 3
   },
   "file_extension": ".py",
   "mimetype": "text/x-python",
   "name": "python",
   "nbconvert_exporter": "python",
   "pygments_lexer": "ipython3",
   "version": "3.9.13"
  }
 },
 "nbformat": 4,
 "nbformat_minor": 5
}
